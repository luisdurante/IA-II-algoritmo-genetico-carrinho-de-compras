{
  "nbformat": 4,
  "nbformat_minor": 0,
  "metadata": {
    "colab": {
      "name": "carrinho_compras.ipynb",
      "provenance": [],
      "collapsed_sections": [],
      "authorship_tag": "ABX9TyOzES75I27Fykm7FGvClAk1",
      "include_colab_link": true
    },
    "kernelspec": {
      "name": "python3",
      "display_name": "Python 3"
    }
  },
  "cells": [
    {
      "cell_type": "markdown",
      "metadata": {
        "id": "view-in-github",
        "colab_type": "text"
      },
      "source": [
        "<a href=\"https://colab.research.google.com/github/luisdurante/IA-II-algoritmo-genetico-carrinho-de-compras/blob/master/carrinho_compras.ipynb\" target=\"_parent\"><img src=\"https://colab.research.google.com/assets/colab-badge.svg\" alt=\"Open In Colab\"/></a>"
      ]
    },
    {
      "cell_type": "markdown",
      "metadata": {
        "id": "myfvsPe8edPc",
        "colab_type": "text"
      },
      "source": [
        "**Imports**"
      ]
    },
    {
      "cell_type": "code",
      "metadata": {
        "id": "QDyCM0hj2oB8",
        "colab_type": "code",
        "colab": {}
      },
      "source": [
        "import numpy as np\n",
        "import pandas as pd\n",
        "import random as rd\n",
        "from random import randint\n",
        "import matplotlib.pyplot as plt\n"
      ],
      "execution_count": 153,
      "outputs": []
    },
    {
      "cell_type": "markdown",
      "metadata": {
        "id": "vD4qAlESemyg",
        "colab_type": "text"
      },
      "source": [
        "**Read csv**"
      ]
    },
    {
      "cell_type": "code",
      "metadata": {
        "id": "YQMxLfO33BrN",
        "colab_type": "code",
        "colab": {
          "base_uri": "https://localhost:8080/",
          "height": 204
        },
        "outputId": "a722572d-d276-4958-94ae-93653d01413d"
      },
      "source": [
        "df = pd.read_csv('https://raw.githubusercontent.com/luisdurante/IA-II-algoritmo-genetico-carrinho-de-compras/master/amostra.csv', sep=';')\n",
        "df.head()"
      ],
      "execution_count": 154,
      "outputs": [
        {
          "output_type": "execute_result",
          "data": {
            "text/html": [
              "<div>\n",
              "<style scoped>\n",
              "    .dataframe tbody tr th:only-of-type {\n",
              "        vertical-align: middle;\n",
              "    }\n",
              "\n",
              "    .dataframe tbody tr th {\n",
              "        vertical-align: top;\n",
              "    }\n",
              "\n",
              "    .dataframe thead th {\n",
              "        text-align: right;\n",
              "    }\n",
              "</style>\n",
              "<table border=\"1\" class=\"dataframe\">\n",
              "  <thead>\n",
              "    <tr style=\"text-align: right;\">\n",
              "      <th></th>\n",
              "      <th>produto</th>\n",
              "      <th>valor</th>\n",
              "      <th>prioridade</th>\n",
              "      <th>categoria</th>\n",
              "    </tr>\n",
              "  </thead>\n",
              "  <tbody>\n",
              "    <tr>\n",
              "      <th>0</th>\n",
              "      <td>água</td>\n",
              "      <td>R$ 1.99</td>\n",
              "      <td>5</td>\n",
              "      <td>bebidas</td>\n",
              "    </tr>\n",
              "    <tr>\n",
              "      <th>1</th>\n",
              "      <td>cerveja</td>\n",
              "      <td>R$ 3.99</td>\n",
              "      <td>2</td>\n",
              "      <td>bebidas</td>\n",
              "    </tr>\n",
              "    <tr>\n",
              "      <th>2</th>\n",
              "      <td>refrigerante 2L</td>\n",
              "      <td>R$ 6.00</td>\n",
              "      <td>2</td>\n",
              "      <td>bebidas</td>\n",
              "    </tr>\n",
              "    <tr>\n",
              "      <th>3</th>\n",
              "      <td>vodka</td>\n",
              "      <td>R$ 30.00</td>\n",
              "      <td>1</td>\n",
              "      <td>bebidas</td>\n",
              "    </tr>\n",
              "    <tr>\n",
              "      <th>4</th>\n",
              "      <td>vinho</td>\n",
              "      <td>R$ 60.00</td>\n",
              "      <td>2</td>\n",
              "      <td>bebidas</td>\n",
              "    </tr>\n",
              "  </tbody>\n",
              "</table>\n",
              "</div>"
            ],
            "text/plain": [
              "           produto     valor  prioridade categoria\n",
              "0             água   R$ 1.99           5   bebidas\n",
              "1          cerveja   R$ 3.99           2   bebidas\n",
              "2  refrigerante 2L   R$ 6.00           2   bebidas\n",
              "3            vodka  R$ 30.00           1   bebidas\n",
              "4            vinho  R$ 60.00           2   bebidas"
            ]
          },
          "metadata": {
            "tags": []
          },
          "execution_count": 154
        }
      ]
    },
    {
      "cell_type": "markdown",
      "metadata": {
        "id": "hUOrHC2ltgAy",
        "colab_type": "text"
      },
      "source": [
        "**Add new column**"
      ]
    },
    {
      "cell_type": "code",
      "metadata": {
        "id": "LVwqgq-xtjtf",
        "colab_type": "code",
        "colab": {
          "base_uri": "https://localhost:8080/",
          "height": 204
        },
        "outputId": "c3ed91a0-e2cd-49f0-b9ee-516a09be0dda"
      },
      "source": [
        "df['valor_nutricional'] = np.random.randint(10, size = df.shape[0])\n",
        "df.head()"
      ],
      "execution_count": 155,
      "outputs": [
        {
          "output_type": "execute_result",
          "data": {
            "text/html": [
              "<div>\n",
              "<style scoped>\n",
              "    .dataframe tbody tr th:only-of-type {\n",
              "        vertical-align: middle;\n",
              "    }\n",
              "\n",
              "    .dataframe tbody tr th {\n",
              "        vertical-align: top;\n",
              "    }\n",
              "\n",
              "    .dataframe thead th {\n",
              "        text-align: right;\n",
              "    }\n",
              "</style>\n",
              "<table border=\"1\" class=\"dataframe\">\n",
              "  <thead>\n",
              "    <tr style=\"text-align: right;\">\n",
              "      <th></th>\n",
              "      <th>produto</th>\n",
              "      <th>valor</th>\n",
              "      <th>prioridade</th>\n",
              "      <th>categoria</th>\n",
              "      <th>valor_nutricional</th>\n",
              "    </tr>\n",
              "  </thead>\n",
              "  <tbody>\n",
              "    <tr>\n",
              "      <th>0</th>\n",
              "      <td>água</td>\n",
              "      <td>R$ 1.99</td>\n",
              "      <td>5</td>\n",
              "      <td>bebidas</td>\n",
              "      <td>5</td>\n",
              "    </tr>\n",
              "    <tr>\n",
              "      <th>1</th>\n",
              "      <td>cerveja</td>\n",
              "      <td>R$ 3.99</td>\n",
              "      <td>2</td>\n",
              "      <td>bebidas</td>\n",
              "      <td>5</td>\n",
              "    </tr>\n",
              "    <tr>\n",
              "      <th>2</th>\n",
              "      <td>refrigerante 2L</td>\n",
              "      <td>R$ 6.00</td>\n",
              "      <td>2</td>\n",
              "      <td>bebidas</td>\n",
              "      <td>7</td>\n",
              "    </tr>\n",
              "    <tr>\n",
              "      <th>3</th>\n",
              "      <td>vodka</td>\n",
              "      <td>R$ 30.00</td>\n",
              "      <td>1</td>\n",
              "      <td>bebidas</td>\n",
              "      <td>9</td>\n",
              "    </tr>\n",
              "    <tr>\n",
              "      <th>4</th>\n",
              "      <td>vinho</td>\n",
              "      <td>R$ 60.00</td>\n",
              "      <td>2</td>\n",
              "      <td>bebidas</td>\n",
              "      <td>3</td>\n",
              "    </tr>\n",
              "  </tbody>\n",
              "</table>\n",
              "</div>"
            ],
            "text/plain": [
              "           produto     valor  prioridade categoria  valor_nutricional\n",
              "0             água   R$ 1.99           5   bebidas                  5\n",
              "1          cerveja   R$ 3.99           2   bebidas                  5\n",
              "2  refrigerante 2L   R$ 6.00           2   bebidas                  7\n",
              "3            vodka  R$ 30.00           1   bebidas                  9\n",
              "4            vinho  R$ 60.00           2   bebidas                  3"
            ]
          },
          "metadata": {
            "tags": []
          },
          "execution_count": 155
        }
      ]
    },
    {
      "cell_type": "markdown",
      "metadata": {
        "id": "4OKujvgoUzWj",
        "colab_type": "text"
      },
      "source": [
        "**Transforms the value column in float**"
      ]
    },
    {
      "cell_type": "code",
      "metadata": {
        "id": "wVRTBNX1TgrR",
        "colab_type": "code",
        "colab": {
          "base_uri": "https://localhost:8080/",
          "height": 119
        },
        "outputId": "a9bc6385-6cb3-45d3-94a3-91352fa0d782"
      },
      "source": [
        "\n",
        "df.valor = df.valor.apply(lambda x: float(x[2:]))\n",
        "df.valor.head()"
      ],
      "execution_count": 156,
      "outputs": [
        {
          "output_type": "execute_result",
          "data": {
            "text/plain": [
              "0     1.99\n",
              "1     3.99\n",
              "2     6.00\n",
              "3    30.00\n",
              "4    60.00\n",
              "Name: valor, dtype: float64"
            ]
          },
          "metadata": {
            "tags": []
          },
          "execution_count": 156
        }
      ]
    },
    {
      "cell_type": "markdown",
      "metadata": {
        "id": "MlRF-wjnfD9J",
        "colab_type": "text"
      },
      "source": [
        "**Initial population**"
      ]
    },
    {
      "cell_type": "code",
      "metadata": {
        "id": "z6YxrCabfDiQ",
        "colab_type": "code",
        "colab": {
          "base_uri": "https://localhost:8080/",
          "height": 323
        },
        "outputId": "bbf02fca-7245-46d5-efb2-d6348cafba2d"
      },
      "source": [
        "solutions_per_pop = 8\n",
        "threshold = 250\n",
        "num_generations = 50\n",
        "item_number = np.arange(1,50)\n",
        "pop_size = (solutions_per_pop, df.shape[0])\n",
        "print('Population size: {}'.format(pop_size))\n",
        "initial_population = np.random.randint(2, size = pop_size)\n",
        "initial_population = initial_population.astype(int)\n",
        "print('Initial population: \\n{}'.format(initial_population))"
      ],
      "execution_count": 157,
      "outputs": [
        {
          "output_type": "stream",
          "text": [
            "Population size: (8, 49)\n",
            "Initial population: \n",
            "[[0 1 0 0 0 0 1 1 1 1 0 0 0 0 0 1 1 0 0 1 0 0 0 1 0 1 0 1 1 0 1 1 1 0 1 0\n",
            "  1 1 1 1 1 0 1 1 0 1 1 1 0]\n",
            " [1 0 0 1 1 1 0 1 0 0 1 0 0 0 1 1 0 1 1 1 1 0 1 0 0 0 1 1 1 0 0 0 1 0 0 0\n",
            "  0 1 0 1 0 1 0 0 0 0 0 1 0]\n",
            " [1 1 1 1 1 1 1 1 0 0 1 1 0 0 0 1 0 1 1 1 1 0 0 1 1 1 0 1 0 0 0 1 0 1 1 1\n",
            "  1 0 1 1 0 1 1 0 1 1 1 0 0]\n",
            " [0 1 0 0 1 0 1 1 1 0 1 1 0 1 1 0 1 0 1 1 0 0 0 1 1 0 0 1 1 1 1 1 1 0 0 1\n",
            "  1 0 1 1 0 1 0 0 0 0 1 1 1]\n",
            " [0 1 1 1 1 1 0 0 1 0 1 0 1 0 0 1 1 0 1 1 0 1 1 1 1 1 1 0 1 1 0 0 0 0 0 1\n",
            "  0 0 0 1 1 1 1 1 1 1 1 0 0]\n",
            " [0 1 1 0 0 0 0 0 1 0 1 0 0 0 0 0 0 1 1 1 1 0 0 1 1 1 0 1 0 1 0 1 0 0 1 0\n",
            "  1 1 0 1 0 0 0 0 1 0 0 0 1]\n",
            " [0 1 0 1 1 1 0 0 0 0 0 1 1 0 1 1 0 1 0 0 1 0 1 0 1 0 1 1 1 0 0 1 0 0 0 1\n",
            "  0 1 1 1 0 1 0 0 0 1 1 1 0]\n",
            " [0 1 0 0 1 1 0 0 1 1 0 0 1 0 0 1 0 1 1 0 0 1 0 1 1 1 0 1 1 0 0 1 0 1 1 1\n",
            "  0 0 0 1 0 1 1 0 0 1 0 0 1]]\n"
          ],
          "name": "stdout"
        }
      ]
    },
    {
      "cell_type": "code",
      "metadata": {
        "id": "W9CQtZyjhp-8",
        "colab_type": "code",
        "colab": {}
      },
      "source": [
        "def cal_fitness(weight, value, population, threshold):\n",
        "    fitness = np.empty(population.shape[0])\n",
        "    for i in range(population.shape[0]):\n",
        "        S1 = np.sum(population[i] * value)\n",
        "        S2 = np.sum(population[i] * weight)\n",
        "        if S2 <= threshold:\n",
        "            fitness[i] = S1\n",
        "        else :\n",
        "            fitness[i] = 0 \n",
        "    return fitness.astype(int)"
      ],
      "execution_count": 158,
      "outputs": []
    },
    {
      "cell_type": "code",
      "metadata": {
        "id": "JglMsoVJmbJ8",
        "colab_type": "code",
        "colab": {}
      },
      "source": [
        "def selection(fitness, num_parents, population):\n",
        "    fitness = list(fitness)\n",
        "    parents = np.empty((num_parents, population.shape[1]))\n",
        "    for i in range(num_parents):\n",
        "        max_fitness_idx = np.where(fitness == np.max(fitness))\n",
        "        parents[i,:] = population[max_fitness_idx[0][0], :]\n",
        "        fitness[max_fitness_idx[0][0]] = -999999\n",
        "    return parents"
      ],
      "execution_count": 159,
      "outputs": []
    },
    {
      "cell_type": "code",
      "metadata": {
        "id": "6EUqaGiKSpdJ",
        "colab_type": "code",
        "colab": {}
      },
      "source": [
        "def crossover(parents, num_offsprings):\n",
        "    offsprings = np.empty((num_offsprings, parents.shape[1]))\n",
        "    crossover_point = int(parents.shape[1]/2)\n",
        "    crossover_rate = 0.8\n",
        "    i=0\n",
        "    while (parents.shape[0] < num_offsprings):\n",
        "        parent1_index = i%parents.shape[0]\n",
        "        parent2_index = (i+1)%parents.shape[0]\n",
        "        x = rd.random()\n",
        "        if x > crossover_rate:\n",
        "            continue\n",
        "        parent1_index = i%parents.shape[0]\n",
        "        parent2_index = (i+1)%parents.shape[0]\n",
        "        offsprings[i,0:crossover_point] = parents[parent1_index,0:crossover_point]\n",
        "        offsprings[i,crossover_point:] = parents[parent2_index,crossover_point:]\n",
        "        i=+1\n",
        "    return offsprings    "
      ],
      "execution_count": 160,
      "outputs": []
    },
    {
      "cell_type": "code",
      "metadata": {
        "id": "J7tf8C5sSt5b",
        "colab_type": "code",
        "colab": {}
      },
      "source": [
        "def mutation(offsprings):\n",
        "    mutants = np.empty((offsprings.shape))\n",
        "    mutation_rate = 0.4\n",
        "    for i in range(mutants.shape[0]):\n",
        "        random_value = rd.random()\n",
        "        mutants[i,:] = offsprings[i,:]\n",
        "        if random_value > mutation_rate:\n",
        "            continue\n",
        "        int_random_value = randint(0,offsprings.shape[1]-1)    \n",
        "        if mutants[i,int_random_value] == 0 :\n",
        "            mutants[i,int_random_value] = 1\n",
        "        else :\n",
        "            mutants[i,int_random_value] = 0\n",
        "    return mutants   "
      ],
      "execution_count": 161,
      "outputs": []
    },
    {
      "cell_type": "code",
      "metadata": {
        "id": "o7X3BJ3PSxYD",
        "colab_type": "code",
        "colab": {}
      },
      "source": [
        "def optimize(weight, value, population, pop_size, num_generations, threshold):\n",
        "    parameters, fitness_history = [], []\n",
        "    num_parents = int(pop_size[0]/2)\n",
        "    num_offsprings = pop_size[0] - num_parents \n",
        "    for i in range(num_generations):\n",
        "        fitness = cal_fitness(weight, value, population, threshold)\n",
        "        fitness_history.append(fitness)\n",
        "        parents = selection(fitness, num_parents, population)\n",
        "        offsprings = crossover(parents, num_offsprings)\n",
        "        mutants = mutation(offsprings)\n",
        "        population[0:parents.shape[0], :] = parents\n",
        "        population[parents.shape[0]:, :] = mutants\n",
        "        \n",
        "    print('Last generation: \\n{}\\n'.format(population)) \n",
        "    fitness_last_gen = cal_fitness(weight, value, population, threshold)      \n",
        "    print('Fitness of the last generation: \\n{}\\n'.format(fitness_last_gen))\n",
        "    max_fitness = np.where(fitness_last_gen == np.max(fitness_last_gen))\n",
        "    parameters.append(population[max_fitness[0][0],:])\n",
        "    return parameters, fitness_history"
      ],
      "execution_count": 162,
      "outputs": []
    },
    {
      "cell_type": "code",
      "metadata": {
        "id": "KwCKQAIRS6ZW",
        "colab_type": "code",
        "colab": {
          "base_uri": "https://localhost:8080/",
          "height": 1000
        },
        "outputId": "fcd0c94c-5371-4c24-86da-7124b56ff863"
      },
      "source": [
        "\n",
        "parameters, fitness_history = optimize(df.valor, df.valor_nutricional, initial_population, pop_size, num_generations, threshold)\n",
        "print('The optimized parameters for the given inputs are: \\n{}'.format(parameters))\n",
        "selected_items = item_number * parameters\n",
        "print('\\nSelected items that will maximize the knapsack without breaking it:')\n",
        "for i in range(selected_items.shape[1]):\n",
        "  if selected_items[0][i] != 0:\n",
        "     print('{} - {} - Valor nutricional: {} - Valor: R$ {}\\n'.format(selected_items[0][i], df.produto.iloc[selected_items[0][i] - 1], df.valor_nutricional.iloc[selected_items[0][i] - 1], \n",
        "                                   df.valor.iloc[selected_items[0][i] - 1]))"
      ],
      "execution_count": 163,
      "outputs": [
        {
          "output_type": "stream",
          "text": [
            "Last generation: \n",
            "[[0 1 1 0 0 0 0 0 1 0 1 0 0 0 0 0 0 1 1 1 1 0 0 1 1 1 0 1 0 1 0 1 0 0 1 0\n",
            "  1 1 0 1 0 0 0 0 1 0 0 0 1]\n",
            " [0 1 1 0 0 0 0 0 1 0 1 0 0 0 0 0 0 1 1 1 1 0 0 1 1 1 0 1 0 1 0 1 0 0 1 0\n",
            "  1 1 0 1 0 0 0 0 1 0 0 0 1]\n",
            " [0 1 1 0 0 0 0 0 1 0 1 0 0 0 0 0 0 1 1 1 1 0 0 1 1 1 0 1 0 1 0 1 0 0 1 0\n",
            "  1 1 0 1 0 0 0 0 1 0 0 0 1]\n",
            " [0 1 1 0 0 0 0 0 1 0 1 0 0 0 0 0 0 1 1 1 1 0 0 1 1 1 0 1 0 1 0 1 0 0 1 0\n",
            "  1 1 0 1 0 0 0 0 1 0 0 0 1]\n",
            " [0 1 1 0 0 0 0 0 1 0 1 0 0 0 0 0 0 1 1 1 1 0 0 1 1 1 0 1 0 1 0 1 0 0 1 0\n",
            "  1 1 0 1 0 0 0 0 1 0 0 0 1]\n",
            " [0 1 1 0 0 1 0 0 1 0 1 0 0 0 0 0 0 1 1 1 1 0 0 1 1 1 0 1 0 1 0 1 0 0 1 0\n",
            "  1 1 0 1 0 0 0 0 1 0 0 0 1]\n",
            " [0 1 1 0 0 0 0 0 1 0 1 0 0 0 0 0 0 1 1 1 1 0 0 1 1 1 0 1 0 1 0 1 0 0 1 0\n",
            "  1 1 0 1 0 0 0 0 1 0 0 0 1]\n",
            " [0 1 1 0 0 0 0 0 1 0 1 0 0 0 0 0 0 1 1 1 1 0 0 1 1 1 0 1 0 1 0 1 0 0 1 0\n",
            "  1 1 0 1 0 0 0 0 1 0 1 0 1]]\n",
            "\n",
            "Fitness of the last generation: \n",
            "[96 96 96 96 96  0 96  0]\n",
            "\n",
            "The optimized parameters for the given inputs are: \n",
            "[array([0, 1, 1, 0, 0, 0, 0, 0, 1, 0, 1, 0, 0, 0, 0, 0, 0, 1, 1, 1, 1, 0,\n",
            "       0, 1, 1, 1, 0, 1, 0, 1, 0, 1, 0, 0, 1, 0, 1, 1, 0, 1, 0, 0, 0, 0,\n",
            "       1, 0, 0, 0, 1])]\n",
            "\n",
            "Selected items that will maximize the knapsack without breaking it:\n",
            "2 - cerveja - Valor nutricional: 5 - Valor: R$ 3.99\n",
            "\n",
            "3 - refrigerante 2L - Valor nutricional: 7 - Valor: R$ 6.0\n",
            "\n",
            "9 - peixe - Valor nutricional: 0 - Valor: R$ 35.0\n",
            "\n",
            "11 - hambúrger - Valor nutricional: 4 - Valor: R$ 15.0\n",
            "\n",
            "18 - cenoura - Valor nutricional: 7 - Valor: R$ 5.0\n",
            "\n",
            "19 - brócolis - Valor nutricional: 0 - Valor: R$ 6.0\n",
            "\n",
            "20 - tomate - Valor nutricional: 4 - Valor: R$ 7.0\n",
            "\n",
            "21 - pimentão - Valor nutricional: 8 - Valor: R$ 8.0\n",
            "\n",
            "24 - acabaxi - Valor nutricional: 5 - Valor: R$ 6.0\n",
            "\n",
            "25 - goiaba - Valor nutricional: 9 - Valor: R$ 8.0\n",
            "\n",
            "26 - laranja - Valor nutricional: 3 - Valor: R$ 7.0\n",
            "\n",
            "28 - maça - Valor nutricional: 4 - Valor: R$ 8.0\n",
            "\n",
            "30 - cotonete - Valor nutricional: 5 - Valor: R$ 10.0\n",
            "\n",
            "32 - sabonete - Valor nutricional: 4 - Valor: R$ 6.0\n",
            "\n",
            "35 - hidratante - Valor nutricional: 7 - Valor: R$ 45.0\n",
            "\n",
            "37 - talco - Valor nutricional: 1 - Valor: R$ 15.0\n",
            "\n",
            "38 - esmalte - Valor nutricional: 3 - Valor: R$ 3.0\n",
            "\n",
            "40 - bolos - Valor nutricional: 7 - Valor: R$ 33.0\n",
            "\n",
            "45 - arroz 5kg - Valor nutricional: 9 - Valor: R$ 17.0\n",
            "\n",
            "49 - lentilha 1kg - Valor nutricional: 4 - Valor: R$ 6.0\n",
            "\n"
          ],
          "name": "stdout"
        }
      ]
    },
    {
      "cell_type": "markdown",
      "metadata": {
        "id": "WlFdwxo7xzx0",
        "colab_type": "text"
      },
      "source": [
        "**Fitness through the generations**"
      ]
    },
    {
      "cell_type": "code",
      "metadata": {
        "id": "cR6Bqf60xzQq",
        "colab_type": "code",
        "colab": {
          "base_uri": "https://localhost:8080/",
          "height": 312
        },
        "outputId": "139666b6-ef78-4d8d-9b8e-808bbd41b63c"
      },
      "source": [
        "fitness_history_mean = [np.mean(fitness) for fitness in fitness_history]\n",
        "fitness_history_max = [np.max(fitness) for fitness in fitness_history]\n",
        "plt.plot(list(range(num_generations)), fitness_history_mean, label = 'Mean Fitness')\n",
        "plt.plot(list(range(num_generations)), fitness_history_max, label = 'Max Fitness')\n",
        "plt.legend()\n",
        "plt.title('Fitness through the generations')\n",
        "plt.xlabel('Generations')\n",
        "plt.ylabel('Fitness')\n",
        "plt.show()\n",
        "print(np.asarray(fitness_history).shape)"
      ],
      "execution_count": 164,
      "outputs": [
        {
          "output_type": "display_data",
          "data": {
            "image/png": "[encoded data removed]",
            "text/plain": [
              "<Figure size 432x288 with 1 Axes>"
            ]
          },
          "metadata": {
            "tags": [],
            "needs_background": "light"
          }
        },
        {
          "output_type": "stream",
          "text": [
            "(50, 8)\n"
          ],
          "name": "stdout"
        }
      ]
    }
  ]
}