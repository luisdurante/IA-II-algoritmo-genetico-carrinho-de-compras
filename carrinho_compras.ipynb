{
  "nbformat": 4,
  "nbformat_minor": 0,
  "metadata": {
    "colab": {
      "name": "carrinho_compras.ipynb",
      "provenance": [],
      "collapsed_sections": [],
      "authorship_tag": "ABX9TyMeUKTBRlSfhaC8Jer0TkpF"
    },
    "kernelspec": {
      "name": "python3",
      "display_name": "Python 3"
    }
  },
  "cells": [
    {
      "cell_type": "markdown",
      "metadata": {
        "id": "myfvsPe8edPc",
        "colab_type": "text"
      },
      "source": [
        "**Imports**"
      ]
    },
    {
      "cell_type": "code",
      "metadata": {
        "id": "QDyCM0hj2oB8",
        "colab_type": "code",
        "colab": {}
      },
      "source": [
        "import pandas as pd\n",
        "import numpy as np"
      ],
      "execution_count": 5,
      "outputs": []
    },
    {
      "cell_type": "markdown",
      "metadata": {
        "id": "vD4qAlESemyg",
        "colab_type": "text"
      },
      "source": [
        "**Read csv**"
      ]
    },
    {
      "cell_type": "code",
      "metadata": {
        "id": "YQMxLfO33BrN",
        "colab_type": "code",
        "colab": {
          "base_uri": "https://localhost:8080/",
          "height": 204
        },
        "outputId": "b8f4ed52-5688-41fe-d5d7-858d6c6802b6"
      },
      "source": [
        "df = pd.read_csv('https://raw.githubusercontent.com/luisdurante/IA-II-algoritmo-genetico-carrinho-de-compras/master/amostra.csv', sep=';')\n",
        "df.head()"
      ],
      "execution_count": 3,
      "outputs": [
        {
          "output_type": "execute_result",
          "data": {
            "text/html": [
              "<div>\n",
              "<style scoped>\n",
              "    .dataframe tbody tr th:only-of-type {\n",
              "        vertical-align: middle;\n",
              "    }\n",
              "\n",
              "    .dataframe tbody tr th {\n",
              "        vertical-align: top;\n",
              "    }\n",
              "\n",
              "    .dataframe thead th {\n",
              "        text-align: right;\n",
              "    }\n",
              "</style>\n",
              "<table border=\"1\" class=\"dataframe\">\n",
              "  <thead>\n",
              "    <tr style=\"text-align: right;\">\n",
              "      <th></th>\n",
              "      <th>produto</th>\n",
              "      <th>valor</th>\n",
              "      <th>prioridade</th>\n",
              "      <th>categoria</th>\n",
              "    </tr>\n",
              "  </thead>\n",
              "  <tbody>\n",
              "    <tr>\n",
              "      <th>0</th>\n",
              "      <td>água</td>\n",
              "      <td>R$ 1.99</td>\n",
              "      <td>5</td>\n",
              "      <td>bebidas</td>\n",
              "    </tr>\n",
              "    <tr>\n",
              "      <th>1</th>\n",
              "      <td>cerveja</td>\n",
              "      <td>R$ 3.99</td>\n",
              "      <td>2</td>\n",
              "      <td>bebidas</td>\n",
              "    </tr>\n",
              "    <tr>\n",
              "      <th>2</th>\n",
              "      <td>refrigerante 2L</td>\n",
              "      <td>R$ 6.00</td>\n",
              "      <td>2</td>\n",
              "      <td>bebidas</td>\n",
              "    </tr>\n",
              "    <tr>\n",
              "      <th>3</th>\n",
              "      <td>vodka</td>\n",
              "      <td>R$ 30.00</td>\n",
              "      <td>1</td>\n",
              "      <td>bebidas</td>\n",
              "    </tr>\n",
              "    <tr>\n",
              "      <th>4</th>\n",
              "      <td>vinho</td>\n",
              "      <td>R$ 60.00</td>\n",
              "      <td>2</td>\n",
              "      <td>bebidas</td>\n",
              "    </tr>\n",
              "  </tbody>\n",
              "</table>\n",
              "</div>"
            ],
            "text/plain": [
              "           produto     valor  prioridade categoria\n",
              "0             água   R$ 1.99           5   bebidas\n",
              "1          cerveja   R$ 3.99           2   bebidas\n",
              "2  refrigerante 2L   R$ 6.00           2   bebidas\n",
              "3            vodka  R$ 30.00           1   bebidas\n",
              "4            vinho  R$ 60.00           2   bebidas"
            ]
          },
          "metadata": {
            "tags": []
          },
          "execution_count": 3
        }
      ]
    },
    {
      "cell_type": "markdown",
      "metadata": {
        "id": "MlRF-wjnfD9J",
        "colab_type": "text"
      },
      "source": [
        "**Initial population**"
      ]
    },
    {
      "cell_type": "code",
      "metadata": {
        "id": "z6YxrCabfDiQ",
        "colab_type": "code",
        "colab": {
          "base_uri": "https://localhost:8080/",
          "height": 221
        },
        "outputId": "81657107-445c-4043-e684-6f4c8804fa4e"
      },
      "source": [
        "solutions_per_pop = df.shape[0] * 2\n",
        "pop_size = (solutions_per_pop, df.shape[0])\n",
        "print('Population size: {}'.format(pop_size))\n",
        "initial_population = np.random.randint(5, size = pop_size)\n",
        "initial_population = initial_population.astype(int)\n",
        "print('Initial population: \\n{}'.format(initial_population))"
      ],
      "execution_count": 7,
      "outputs": [
        {
          "output_type": "stream",
          "text": [
            "Population size: (5, 49)\n",
            "Initial population: \n",
            "[[1 2 0 4 1 3 1 4 1 3 2 4 2 2 4 4 3 4 0 4 3 3 3 3 0 4 0 0 2 0 4 3 0 4 2 3\n",
            "  2 1 4 2 4 3 2 3 0 0 0 1 0]\n",
            " [3 0 4 3 1 0 4 1 0 1 2 4 0 2 0 4 0 1 1 1 0 4 2 1 2 1 0 3 3 0 0 0 4 0 4 3\n",
            "  1 3 4 2 2 4 3 1 2 4 0 2 1]\n",
            " [0 4 0 1 1 1 2 3 0 0 3 3 2 3 0 1 4 0 3 3 1 1 2 4 0 1 0 3 1 2 2 0 0 1 0 3\n",
            "  2 0 4 2 2 3 4 3 2 4 3 4 2]\n",
            " [1 3 2 3 3 1 2 1 3 0 2 4 4 3 3 0 3 2 3 1 2 1 3 0 4 3 2 4 2 4 1 4 2 1 1 4\n",
            "  1 0 4 0 2 3 3 3 3 3 2 0 1]\n",
            " [4 4 4 2 0 0 2 1 0 0 0 1 3 2 4 3 2 0 3 1 1 4 4 4 1 3 3 3 1 1 1 0 0 1 3 1\n",
            "  1 2 4 2 4 1 1 0 3 0 2 2 4]]\n"
          ],
          "name": "stdout"
        }
      ]
    },
    {
      "cell_type": "code",
      "metadata": {
        "id": "W9CQtZyjhp-8",
        "colab_type": "code",
        "colab": {
          "base_uri": "https://localhost:8080/",
          "height": 34
        },
        "outputId": "904379fb-c0d7-467d-88eb-05eb439101bf"
      },
      "source": [
        "def cal_fitness(weight, value, population, threshold):\n",
        "    fitness = np.empty(population.shape[0])\n",
        "    for i in range(population.shape[0]):\n",
        "        S1 = np.sum(population[i] * value)\n",
        "        S2 = np.sum(population[i] * weight)\n",
        "        if S2 <= threshold:\n",
        "            fitness[i] = S1\n",
        "        else :\n",
        "            fitness[i] = 0 \n",
        "    return fitness.astype(int)"
      ],
      "execution_count": 8,
      "outputs": [
        {
          "output_type": "execute_result",
          "data": {
            "text/plain": [
              "(49, 4)"
            ]
          },
          "metadata": {
            "tags": []
          },
          "execution_count": 8
        }
      ]
    },
    {
      "cell_type": "code",
      "metadata": {
        "id": "JglMsoVJmbJ8",
        "colab_type": "code",
        "colab": {}
      },
      "source": [
        "def selection(fitness, num_parents, population):\n",
        "    fitness = list(fitness)\n",
        "    parents = np.empty((num_parents, population.shape[1]))\n",
        "    for i in range(num_parents):\n",
        "        max_fitness_idx = np.where(fitness == np.max(fitness))\n",
        "        parents[i,:] = population[max_fitness_idx[0][0], :]\n",
        "        fitness[max_fitness_idx[0][0]] = 999999\n",
        "    return parents"
      ],
      "execution_count": null,
      "outputs": []
    }
  ]
}