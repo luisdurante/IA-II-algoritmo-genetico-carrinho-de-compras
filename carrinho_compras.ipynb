{
  "nbformat": 4,
  "nbformat_minor": 0,
  "metadata": {
    "colab": {
      "name": "carrinho_compras.ipynb",
      "provenance": [],
      "collapsed_sections": [],
      "authorship_tag": "ABX9TyPn+atl1oXtxrV1tiaSsAC8",
      "include_colab_link": true
    },
    "kernelspec": {
      "name": "python3",
      "display_name": "Python 3"
    }
  },
  "cells": [
    {
      "cell_type": "markdown",
      "metadata": {
        "id": "view-in-github",
        "colab_type": "text"
      },
      "source": [
        "<a href=\"https://colab.research.google.com/github/luisdurante/IA-II-algoritmo-genetico-carrinho-de-compras/blob/master/carrinho_compras.ipynb\" target=\"_parent\"><img src=\"https://colab.research.google.com/assets/colab-badge.svg\" alt=\"Open In Colab\"/></a>"
      ]
    },
    {
      "cell_type": "markdown",
      "metadata": {
        "id": "myfvsPe8edPc"
      },
      "source": [
        "**Imports**"
      ]
    },
    {
      "cell_type": "code",
      "metadata": {
        "id": "QDyCM0hj2oB8"
      },
      "source": [
        "import numpy as np\n",
        "import pandas as pd\n",
        "import random as rd\n",
        "from random import randint\n",
        "import matplotlib.pyplot as plt\n"
      ],
      "execution_count": 57,
      "outputs": []
    },
    {
      "cell_type": "markdown",
      "metadata": {
        "id": "vD4qAlESemyg"
      },
      "source": [
        "**Read csv**"
      ]
    },
    {
      "cell_type": "code",
      "metadata": {
        "id": "YQMxLfO33BrN",
        "outputId": "fabb5b59-3718-4308-98de-0a36eb170095",
        "colab": {
          "base_uri": "https://localhost:8080/",
          "height": 1000
        }
      },
      "source": [
        "url = \"https://raw.githubusercontent.com/luisdurante/IA-II-algoritmo-genetico-carrinho-de-compras/master/amostra.csv\"\n",
        "df = pd.read_csv(\"https://raw.githubusercontent.com/luisdurante/IA-II-algoritmo-genetico-carrinho-de-compras/master/amostra.csv\", sep=';')\n",
        "df"
      ],
      "execution_count": 58,
      "outputs": [
        {
          "output_type": "execute_result",
          "data": {
            "text/html": [
              "<div>\n",
              "<style scoped>\n",
              "    .dataframe tbody tr th:only-of-type {\n",
              "        vertical-align: middle;\n",
              "    }\n",
              "\n",
              "    .dataframe tbody tr th {\n",
              "        vertical-align: top;\n",
              "    }\n",
              "\n",
              "    .dataframe thead th {\n",
              "        text-align: right;\n",
              "    }\n",
              "</style>\n",
              "<table border=\"1\" class=\"dataframe\">\n",
              "  <thead>\n",
              "    <tr style=\"text-align: right;\">\n",
              "      <th></th>\n",
              "      <th>produto</th>\n",
              "      <th>valor</th>\n",
              "      <th>prioridade</th>\n",
              "      <th>categoria</th>\n",
              "      <th>valor nutritivo</th>\n",
              "    </tr>\n",
              "  </thead>\n",
              "  <tbody>\n",
              "    <tr>\n",
              "      <th>0</th>\n",
              "      <td>água</td>\n",
              "      <td>R$ 1,99</td>\n",
              "      <td>5</td>\n",
              "      <td>bebidas</td>\n",
              "      <td>5</td>\n",
              "    </tr>\n",
              "    <tr>\n",
              "      <th>1</th>\n",
              "      <td>cerveja</td>\n",
              "      <td>R$ 3,99</td>\n",
              "      <td>2</td>\n",
              "      <td>bebidas</td>\n",
              "      <td>1</td>\n",
              "    </tr>\n",
              "    <tr>\n",
              "      <th>2</th>\n",
              "      <td>refrigerante 2L</td>\n",
              "      <td>R$ 6,00</td>\n",
              "      <td>5</td>\n",
              "      <td>bebidas</td>\n",
              "      <td>1</td>\n",
              "    </tr>\n",
              "    <tr>\n",
              "      <th>3</th>\n",
              "      <td>vodka</td>\n",
              "      <td>R$ 30,00</td>\n",
              "      <td>1</td>\n",
              "      <td>bebidas</td>\n",
              "      <td>1</td>\n",
              "    </tr>\n",
              "    <tr>\n",
              "      <th>4</th>\n",
              "      <td>vinho</td>\n",
              "      <td>R$ 60,00</td>\n",
              "      <td>2</td>\n",
              "      <td>bebidas</td>\n",
              "      <td>1</td>\n",
              "    </tr>\n",
              "    <tr>\n",
              "      <th>5</th>\n",
              "      <td>carne bovina</td>\n",
              "      <td>R$ 48,00</td>\n",
              "      <td>4</td>\n",
              "      <td>carne</td>\n",
              "      <td>4</td>\n",
              "    </tr>\n",
              "    <tr>\n",
              "      <th>6</th>\n",
              "      <td>frango</td>\n",
              "      <td>R$ 25,00</td>\n",
              "      <td>4</td>\n",
              "      <td>carne</td>\n",
              "      <td>5</td>\n",
              "    </tr>\n",
              "    <tr>\n",
              "      <th>7</th>\n",
              "      <td>miúdo</td>\n",
              "      <td>R$ 35,00</td>\n",
              "      <td>1</td>\n",
              "      <td>carne</td>\n",
              "      <td>3</td>\n",
              "    </tr>\n",
              "    <tr>\n",
              "      <th>8</th>\n",
              "      <td>peixe</td>\n",
              "      <td>R$ 35,00</td>\n",
              "      <td>4</td>\n",
              "      <td>carne</td>\n",
              "      <td>4</td>\n",
              "    </tr>\n",
              "    <tr>\n",
              "      <th>9</th>\n",
              "      <td>porco</td>\n",
              "      <td>R$ 30,00</td>\n",
              "      <td>4</td>\n",
              "      <td>carne</td>\n",
              "      <td>3</td>\n",
              "    </tr>\n",
              "    <tr>\n",
              "      <th>10</th>\n",
              "      <td>hambúrger</td>\n",
              "      <td>R$ 15,00</td>\n",
              "      <td>4</td>\n",
              "      <td>frios e laticínios</td>\n",
              "      <td>2</td>\n",
              "    </tr>\n",
              "    <tr>\n",
              "      <th>11</th>\n",
              "      <td>leite</td>\n",
              "      <td>R$ 3,50</td>\n",
              "      <td>4</td>\n",
              "      <td>frios e laticínios</td>\n",
              "      <td>5</td>\n",
              "    </tr>\n",
              "    <tr>\n",
              "      <th>12</th>\n",
              "      <td>queijo</td>\n",
              "      <td>R$ 18,00</td>\n",
              "      <td>2</td>\n",
              "      <td>frios e laticínios</td>\n",
              "      <td>5</td>\n",
              "    </tr>\n",
              "    <tr>\n",
              "      <th>13</th>\n",
              "      <td>presunto</td>\n",
              "      <td>R$ 18,00</td>\n",
              "      <td>2</td>\n",
              "      <td>frios e laticínios</td>\n",
              "      <td>3</td>\n",
              "    </tr>\n",
              "    <tr>\n",
              "      <th>14</th>\n",
              "      <td>manteiga</td>\n",
              "      <td>R$ 6,00</td>\n",
              "      <td>2</td>\n",
              "      <td>frios e laticínios</td>\n",
              "      <td>3</td>\n",
              "    </tr>\n",
              "    <tr>\n",
              "      <th>15</th>\n",
              "      <td>batata</td>\n",
              "      <td>R$ 5,00</td>\n",
              "      <td>2</td>\n",
              "      <td>frutas, verduras, legumes</td>\n",
              "      <td>4</td>\n",
              "    </tr>\n",
              "    <tr>\n",
              "      <th>16</th>\n",
              "      <td>beterraba</td>\n",
              "      <td>R$ 6,00</td>\n",
              "      <td>1</td>\n",
              "      <td>frutas, verduras, legumes</td>\n",
              "      <td>3</td>\n",
              "    </tr>\n",
              "    <tr>\n",
              "      <th>17</th>\n",
              "      <td>cenoura</td>\n",
              "      <td>R$ 5,00</td>\n",
              "      <td>1</td>\n",
              "      <td>frutas, verduras, legumes</td>\n",
              "      <td>4</td>\n",
              "    </tr>\n",
              "    <tr>\n",
              "      <th>18</th>\n",
              "      <td>brócolis</td>\n",
              "      <td>R$ 6,00</td>\n",
              "      <td>1</td>\n",
              "      <td>frutas, verduras, legumes</td>\n",
              "      <td>4</td>\n",
              "    </tr>\n",
              "    <tr>\n",
              "      <th>19</th>\n",
              "      <td>tomate</td>\n",
              "      <td>R$ 7,00</td>\n",
              "      <td>4</td>\n",
              "      <td>frutas, verduras, legumes</td>\n",
              "      <td>5</td>\n",
              "    </tr>\n",
              "    <tr>\n",
              "      <th>20</th>\n",
              "      <td>pimentão</td>\n",
              "      <td>R$ 8,00</td>\n",
              "      <td>2</td>\n",
              "      <td>frutas, verduras, legumes</td>\n",
              "      <td>3</td>\n",
              "    </tr>\n",
              "    <tr>\n",
              "      <th>21</th>\n",
              "      <td>pepino</td>\n",
              "      <td>R$ 5,00</td>\n",
              "      <td>1</td>\n",
              "      <td>frutas, verduras, legumes</td>\n",
              "      <td>3</td>\n",
              "    </tr>\n",
              "    <tr>\n",
              "      <th>22</th>\n",
              "      <td>alface</td>\n",
              "      <td>R$ 3,00</td>\n",
              "      <td>4</td>\n",
              "      <td>frutas, verduras, legumes</td>\n",
              "      <td>4</td>\n",
              "    </tr>\n",
              "    <tr>\n",
              "      <th>23</th>\n",
              "      <td>abacaxi</td>\n",
              "      <td>R$ 6,00</td>\n",
              "      <td>2</td>\n",
              "      <td>frutas, verduras, legumes</td>\n",
              "      <td>5</td>\n",
              "    </tr>\n",
              "    <tr>\n",
              "      <th>24</th>\n",
              "      <td>goiaba</td>\n",
              "      <td>R$ 8,00</td>\n",
              "      <td>1</td>\n",
              "      <td>frutas, verduras, legumes</td>\n",
              "      <td>5</td>\n",
              "    </tr>\n",
              "    <tr>\n",
              "      <th>25</th>\n",
              "      <td>laranja</td>\n",
              "      <td>R$ 7,00</td>\n",
              "      <td>4</td>\n",
              "      <td>frutas, verduras, legumes</td>\n",
              "      <td>5</td>\n",
              "    </tr>\n",
              "    <tr>\n",
              "      <th>26</th>\n",
              "      <td>banana</td>\n",
              "      <td>R$ 6,00</td>\n",
              "      <td>4</td>\n",
              "      <td>frutas, verduras, legumes</td>\n",
              "      <td>5</td>\n",
              "    </tr>\n",
              "    <tr>\n",
              "      <th>27</th>\n",
              "      <td>maça</td>\n",
              "      <td>R$ 8,00</td>\n",
              "      <td>4</td>\n",
              "      <td>frutas, verduras, legumes</td>\n",
              "      <td>5</td>\n",
              "    </tr>\n",
              "    <tr>\n",
              "      <th>28</th>\n",
              "      <td>biscoitos</td>\n",
              "      <td>R$ 5,00</td>\n",
              "      <td>3</td>\n",
              "      <td>padaria</td>\n",
              "      <td>2</td>\n",
              "    </tr>\n",
              "    <tr>\n",
              "      <th>29</th>\n",
              "      <td>bolos</td>\n",
              "      <td>R$ 33,00</td>\n",
              "      <td>3</td>\n",
              "      <td>padaria</td>\n",
              "      <td>1</td>\n",
              "    </tr>\n",
              "    <tr>\n",
              "      <th>30</th>\n",
              "      <td>doces</td>\n",
              "      <td>R$ 7,00</td>\n",
              "      <td>5</td>\n",
              "      <td>padaria</td>\n",
              "      <td>1</td>\n",
              "    </tr>\n",
              "    <tr>\n",
              "      <th>31</th>\n",
              "      <td>pães</td>\n",
              "      <td>R$ 3,00</td>\n",
              "      <td>3</td>\n",
              "      <td>padaria</td>\n",
              "      <td>3</td>\n",
              "    </tr>\n",
              "    <tr>\n",
              "      <th>32</th>\n",
              "      <td>salgados</td>\n",
              "      <td>R$ 2,00</td>\n",
              "      <td>3</td>\n",
              "      <td>padaria</td>\n",
              "      <td>2</td>\n",
              "    </tr>\n",
              "    <tr>\n",
              "      <th>33</th>\n",
              "      <td>tortas</td>\n",
              "      <td>R$ 14,00</td>\n",
              "      <td>1</td>\n",
              "      <td>padaria</td>\n",
              "      <td>2</td>\n",
              "    </tr>\n",
              "    <tr>\n",
              "      <th>34</th>\n",
              "      <td>arroz 5kg</td>\n",
              "      <td>R$ 17,00</td>\n",
              "      <td>5</td>\n",
              "      <td>grãos</td>\n",
              "      <td>4</td>\n",
              "    </tr>\n",
              "    <tr>\n",
              "      <th>35</th>\n",
              "      <td>feijão 1kg</td>\n",
              "      <td>R$ 8,00</td>\n",
              "      <td>5</td>\n",
              "      <td>grãos</td>\n",
              "      <td>4</td>\n",
              "    </tr>\n",
              "    <tr>\n",
              "      <th>36</th>\n",
              "      <td>grão de bico 1kg</td>\n",
              "      <td>R$ 10,00</td>\n",
              "      <td>1</td>\n",
              "      <td>grãos</td>\n",
              "      <td>4</td>\n",
              "    </tr>\n",
              "    <tr>\n",
              "      <th>37</th>\n",
              "      <td>ervilha 1kg</td>\n",
              "      <td>R$ 8,00</td>\n",
              "      <td>1</td>\n",
              "      <td>grãos</td>\n",
              "      <td>3</td>\n",
              "    </tr>\n",
              "    <tr>\n",
              "      <th>38</th>\n",
              "      <td>lentilha 1kg</td>\n",
              "      <td>R$ 6,00</td>\n",
              "      <td>1</td>\n",
              "      <td>grãos</td>\n",
              "      <td>3</td>\n",
              "    </tr>\n",
              "  </tbody>\n",
              "</table>\n",
              "</div>"
            ],
            "text/plain": [
              "             produto     valor  ...                  categoria valor nutritivo\n",
              "0               água   R$ 1,99  ...                    bebidas               5\n",
              "1            cerveja   R$ 3,99  ...                    bebidas               1\n",
              "2    refrigerante 2L   R$ 6,00  ...                    bebidas               1\n",
              "3              vodka  R$ 30,00  ...                    bebidas               1\n",
              "4              vinho  R$ 60,00  ...                    bebidas               1\n",
              "5       carne bovina  R$ 48,00  ...                      carne               4\n",
              "6             frango  R$ 25,00  ...                      carne               5\n",
              "7              miúdo  R$ 35,00  ...                      carne               3\n",
              "8              peixe  R$ 35,00  ...                      carne               4\n",
              "9              porco  R$ 30,00  ...                      carne               3\n",
              "10         hambúrger  R$ 15,00  ...         frios e laticínios               2\n",
              "11             leite   R$ 3,50  ...         frios e laticínios               5\n",
              "12            queijo  R$ 18,00  ...         frios e laticínios               5\n",
              "13          presunto  R$ 18,00  ...         frios e laticínios               3\n",
              "14          manteiga   R$ 6,00  ...         frios e laticínios               3\n",
              "15            batata   R$ 5,00  ...  frutas, verduras, legumes               4\n",
              "16         beterraba   R$ 6,00  ...  frutas, verduras, legumes               3\n",
              "17           cenoura   R$ 5,00  ...  frutas, verduras, legumes               4\n",
              "18          brócolis   R$ 6,00  ...  frutas, verduras, legumes               4\n",
              "19            tomate   R$ 7,00  ...  frutas, verduras, legumes               5\n",
              "20          pimentão   R$ 8,00  ...  frutas, verduras, legumes               3\n",
              "21            pepino   R$ 5,00  ...  frutas, verduras, legumes               3\n",
              "22            alface   R$ 3,00  ...  frutas, verduras, legumes               4\n",
              "23           abacaxi   R$ 6,00  ...  frutas, verduras, legumes               5\n",
              "24            goiaba   R$ 8,00  ...  frutas, verduras, legumes               5\n",
              "25           laranja   R$ 7,00  ...  frutas, verduras, legumes               5\n",
              "26            banana   R$ 6,00  ...  frutas, verduras, legumes               5\n",
              "27              maça   R$ 8,00  ...  frutas, verduras, legumes               5\n",
              "28         biscoitos   R$ 5,00  ...                    padaria               2\n",
              "29             bolos  R$ 33,00  ...                    padaria               1\n",
              "30             doces   R$ 7,00  ...                    padaria               1\n",
              "31              pães   R$ 3,00  ...                    padaria               3\n",
              "32          salgados   R$ 2,00  ...                    padaria               2\n",
              "33            tortas  R$ 14,00  ...                    padaria               2\n",
              "34         arroz 5kg  R$ 17,00  ...                      grãos               4\n",
              "35        feijão 1kg   R$ 8,00  ...                      grãos               4\n",
              "36  grão de bico 1kg  R$ 10,00  ...                      grãos               4\n",
              "37       ervilha 1kg   R$ 8,00  ...                      grãos               3\n",
              "38      lentilha 1kg   R$ 6,00  ...                      grãos               3\n",
              "\n",
              "[39 rows x 5 columns]"
            ]
          },
          "metadata": {
            "tags": []
          },
          "execution_count": 58
        }
      ]
    },
    {
      "cell_type": "markdown",
      "metadata": {
        "id": "hUOrHC2ltgAy"
      },
      "source": [
        "**Add new column**"
      ]
    },
    {
      "cell_type": "code",
      "metadata": {
        "id": "LVwqgq-xtjtf"
      },
      "source": [
        "# df['valor_nutricional'] = np.random.randint(1,5, size = df.shape[0])"
      ],
      "execution_count": 59,
      "outputs": []
    },
    {
      "cell_type": "markdown",
      "metadata": {
        "id": "4OKujvgoUzWj"
      },
      "source": [
        "**Transform the 'value' column in float**"
      ]
    },
    {
      "cell_type": "code",
      "metadata": {
        "id": "wVRTBNX1TgrR",
        "outputId": "2dc82fae-619f-4ca7-9859-85e3b5345316",
        "colab": {
          "base_uri": "https://localhost:8080/",
          "height": 34
        }
      },
      "source": [
        "df.valor = df.valor.apply(lambda x: float(x.replace(',','.')[2:]))\n",
        "df.valor.sum()"
      ],
      "execution_count": 60,
      "outputs": [
        {
          "output_type": "execute_result",
          "data": {
            "text/plain": [
              "528.48"
            ]
          },
          "metadata": {
            "tags": []
          },
          "execution_count": 60
        }
      ]
    },
    {
      "cell_type": "markdown",
      "metadata": {
        "id": "MlRF-wjnfD9J"
      },
      "source": [
        "**Initial population**"
      ]
    },
    {
      "cell_type": "code",
      "metadata": {
        "id": "z6YxrCabfDiQ",
        "outputId": "ac7c967c-9c36-461d-d1df-0af8334ef84f",
        "colab": {
          "base_uri": "https://localhost:8080/",
          "height": 170
        }
      },
      "source": [
        "solutions_per_pop = 600\n",
        "threshold = 30\n",
        "num_generations = 20\n",
        "item_number = np.arange(1,40)\n",
        "pop_size = (solutions_per_pop, df.shape[0])\n",
        "print('Population size: {}'.format(pop_size))\n",
        "initial_population = np.random.randint(2, size = pop_size)\n",
        "initial_population = initial_population.astype(int)\n",
        "print('Initial population: \\n{}'.format(initial_population))"
      ],
      "execution_count": 61,
      "outputs": [
        {
          "output_type": "stream",
          "text": [
            "Population size: (600, 39)\n",
            "Initial population: \n",
            "[[1 1 0 ... 1 1 0]\n",
            " [1 1 1 ... 0 0 0]\n",
            " [0 1 0 ... 0 1 1]\n",
            " ...\n",
            " [1 1 1 ... 1 1 1]\n",
            " [1 1 1 ... 0 1 0]\n",
            " [1 1 1 ... 0 0 1]]\n"
          ],
          "name": "stdout"
        }
      ]
    },
    {
      "cell_type": "code",
      "metadata": {
        "id": "W9CQtZyjhp-8"
      },
      "source": [
        "def cal_fitness(value, nutritious, priority, population, threshold):\n",
        "\n",
        "    fitness = np.empty(population.shape[0])\n",
        "    for i in range(population.shape[0]):\n",
        "        total_nutritious = np.sum(population[i] * nutritious)\n",
        "        total_value = np.sum(population[i] * value)\n",
        "        total_priority = np.sum(population[i] * priority)\n",
        "\n",
        "        total_profit = total_nutritious * 2  + total_priority\n",
        "\n",
        "        if total_profit < 10000 and total_profit > -10000:\n",
        "          if total_value <= threshold:\n",
        "              fitness[i] = total_profit\n",
        "          else :\n",
        "              fitness[i] = (threshold - total_value) * 3 + total_profit\n",
        "\n",
        "   \n",
        "    return fitness.astype(int)"
      ],
      "execution_count": 62,
      "outputs": []
    },
    {
      "cell_type": "code",
      "metadata": {
        "id": "JglMsoVJmbJ8"
      },
      "source": [
        "def selection(fitness, num_parents, population):\n",
        "    fitness = list(fitness)\n",
        "    parents = np.empty((num_parents, population.shape[1]))\n",
        "    for i in range(num_parents):\n",
        "        max_fitness_idx = np.where(fitness == np.max(fitness))\n",
        "        parents[i,:] = population[max_fitness_idx[0][0], :]\n",
        "        fitness[max_fitness_idx[0][0]] = -999999\n",
        "    return parents"
      ],
      "execution_count": 63,
      "outputs": []
    },
    {
      "cell_type": "code",
      "metadata": {
        "id": "6EUqaGiKSpdJ"
      },
      "source": [
        "def crossover(parents, num_offsprings):\n",
        "    #offsprings = np.random.randint(2, size = (num_offsprings, parents.shape[1]))\n",
        "    offsprings = np.zeros((num_offsprings, parents.shape[1]))\n",
        "    crossover_point = int(parents.shape[1]/2)\n",
        "    crossover_rate = 0.80\n",
        "    i=-1\n",
        "    while (i < num_offsprings - 1):\n",
        "        parent1_index = i%parents.shape[0]\n",
        "        parent2_index = (i+1)%parents.shape[0]\n",
        "        x = rd.random()\n",
        "        i += 1\n",
        "        if x > crossover_rate:\n",
        "            continue\n",
        "        parent1_index = i%parents.shape[0]\n",
        "        parent2_index = (i+1)%parents.shape[0]\n",
        "        offsprings[i,0:crossover_point] = parents[parent1_index,0:crossover_point]\n",
        "        offsprings[i,crossover_point:] = parents[parent2_index,crossover_point:]\n",
        "    return offsprings    "
      ],
      "execution_count": 64,
      "outputs": []
    },
    {
      "cell_type": "code",
      "metadata": {
        "id": "J7tf8C5sSt5b"
      },
      "source": [
        "def mutation(offsprings):\n",
        "    #print('off',offsprings)\n",
        "    mutants = np.empty((offsprings.shape))\n",
        "    mutation_rate = 0.20\n",
        "    for i in range(mutants.shape[0]):\n",
        "        random_value = rd.random()\n",
        "        mutants[i,:] = offsprings[i,:]\n",
        "        if random_value > mutation_rate:\n",
        "            continue\n",
        "        int_random_value = randint(0,offsprings.shape[1]-1)   \n",
        "        if mutants[i,int_random_value] == 0 :\n",
        "            mutants[i,int_random_value] = 1\n",
        "        else :\n",
        "            mutants[i,int_random_value] = 0\n",
        "    #print(mutants)\n",
        "    return mutants   "
      ],
      "execution_count": 65,
      "outputs": []
    },
    {
      "cell_type": "code",
      "metadata": {
        "id": "o7X3BJ3PSxYD"
      },
      "source": [
        "def optimize(value, nutritious, priority, population, pop_size, num_generations, threshold):\n",
        "    parameters, fitness_history = [], []\n",
        "    num_parents = int(pop_size[0]/2)\n",
        "    num_offsprings = pop_size[0] - num_parents \n",
        "    for i in range(num_generations):\n",
        "        fitness = cal_fitness(value, nutritious, priority, population, threshold)\n",
        "        fitness_history.append(fitness)\n",
        "        parents = selection(fitness, num_parents, population)\n",
        "        offsprings = crossover(parents, num_offsprings)\n",
        "        mutants = mutation(offsprings)\n",
        "        population[0:parents.shape[0], :] = parents\n",
        "        population[parents.shape[0]:, :] = mutants\n",
        "        \n",
        "    print('Last generation: \\n{}\\n'.format(population)) \n",
        "    fitness_last_gen = cal_fitness(value, nutritious, priority, population, threshold)      \n",
        "    print('Fitness of the last generation: \\n{}\\n'.format(fitness_last_gen))\n",
        "    max_fitness = np.where(fitness_last_gen == np.max(fitness_last_gen))\n",
        "    parameters.append(population[max_fitness[0][0],:])\n",
        "    return parameters, fitness_history"
      ],
      "execution_count": 66,
      "outputs": []
    },
    {
      "cell_type": "code",
      "metadata": {
        "id": "KwCKQAIRS6ZW",
        "outputId": "bd79d61b-faf4-48ce-d5dc-963304c7981d",
        "colab": {
          "base_uri": "https://localhost:8080/",
          "height": 1000
        }
      },
      "source": [
        "\n",
        "parameters, fitness_history = optimize(df.valor, df['valor nutritivo'], df.prioridade, initial_population, pop_size, num_generations, threshold)\n",
        "print('The optimized parameters for the given inputs are: \\n{}'.format(parameters))\n",
        "# print('fitness history: {}'.format(fitness_history))\n",
        "selected_items = item_number * parameters\n",
        "print('\\nSelected items that will maximize the knapsack without breaking it:')\n",
        "for i in range(selected_items.shape[1]):\n",
        "  if selected_items[0][i] != 0:\n",
        "     print(' {} - Valor nutricional: {} - Valor: R$ {} - Prioridade:{}\\n'.format(df.produto.iloc[selected_items[0][i] - 1], df['valor nutritivo'].iloc[selected_items[0][i] - 1], \n",
        "                                   df.valor.iloc[selected_items[0][i] - 1],  df.prioridade.iloc[selected_items[0][i] - 1]))"
      ],
      "execution_count": 67,
      "outputs": [
        {
          "output_type": "stream",
          "text": [
            "GENERATION 0 ------------------------------------\n",
            "\n",
            "GENERATION 1 ------------------------------------\n",
            "\n",
            "GENERATION 2 ------------------------------------\n",
            "\n",
            "GENERATION 3 ------------------------------------\n",
            "\n",
            "GENERATION 4 ------------------------------------\n",
            "\n",
            "GENERATION 5 ------------------------------------\n",
            "\n",
            "GENERATION 6 ------------------------------------\n",
            "\n",
            "GENERATION 7 ------------------------------------\n",
            "\n",
            "GENERATION 8 ------------------------------------\n",
            "\n",
            "GENERATION 9 ------------------------------------\n",
            "\n",
            "GENERATION 10 ------------------------------------\n",
            "\n",
            "GENERATION 11 ------------------------------------\n",
            "\n",
            "GENERATION 12 ------------------------------------\n",
            "\n",
            "GENERATION 13 ------------------------------------\n",
            "\n",
            "GENERATION 14 ------------------------------------\n",
            "\n",
            "GENERATION 15 ------------------------------------\n",
            "\n",
            "GENERATION 16 ------------------------------------\n",
            "\n",
            "GENERATION 17 ------------------------------------\n",
            "\n",
            "GENERATION 18 ------------------------------------\n",
            "\n",
            "GENERATION 19 ------------------------------------\n",
            "\n",
            "Last generation: \n",
            "[[1 0 0 ... 0 0 0]\n",
            " [1 0 0 ... 0 0 0]\n",
            " [1 0 0 ... 0 0 0]\n",
            " ...\n",
            " [1 0 0 ... 0 0 0]\n",
            " [1 0 0 ... 0 0 0]\n",
            " [1 0 0 ... 0 0 0]]\n",
            "\n",
            "Fitness of the last generation: \n",
            "[  86   85   80   80   80   79   79   79   79   79   79   79   79   79\n",
            "   79   78   78   78   78   78   78   78   78   78   78   78   78   78\n",
            "   78   78   78   78   78   78   78   78   78   77   77   77   77   77\n",
            "   77   77   77   77   76   76   76   76   76   76   76   76   75   75\n",
            "   75   75   75   75   75   75   75   75   75   75   75   74   74   74\n",
            "   74   74   74   74   74   74   74   74   74   74   74   74   74   74\n",
            "   74   74   74   74   74   74   74   74   74   74   74   74   74   74\n",
            "   74   74   74   74   74   74   74   74   74   74   74   74   74   74\n",
            "   74   74   74   74   74   74   74   74   74   74   74   74   74   74\n",
            "   74   74   74   74   73   73   73   73   73   73   73   73   73   73\n",
            "   73   73   73   73   73   73   73   73   73   73   73   73   73   73\n",
            "   73   73   73   73   73   73   73   73   73   73   73   73   72   72\n",
            "   72   72   72   72   72   72   72   72   72   72   72   72   72   72\n",
            "   72   72   72   72   72   72   72   72   72   72   72   72   72   72\n",
            "   72   72   72   72   72   72   72   71   71   71   71   71   71   71\n",
            "   71   71   71   71   71   71   71   71   71   71   71   71   71   71\n",
            "   71   71   71   71   71   71   71   71   70   70   70   70   70   70\n",
            "   70   70   70   70   70   70   70   70   70   70   70   70   70   70\n",
            "   70   70   70   70   70   70   70   70   70   70   70   69   69   69\n",
            "   69   69   69   69   69   69   69   69   69   69   69   69   69   69\n",
            "   69   69   69   69   69   69   69   69   69   69   69   69   69   69\n",
            "   69   69   69   69   69   69   72   14   75   43   76   18   79   79\n",
            "   79   79   63   79   79    0    0   27    0   78   78   73   73   62\n",
            "   78   67   78   78   78   78   65  -53   67   78   78   78    5   81\n",
            "    0  -86   75   51   77   78    0   77   74   13    0   74   70   76\n",
            "    0   -3  -65   66   76   74   76   70    0    0   75   74   77   74\n",
            "   67    0    0    0   74   74   74   74   74   74   74   77   74   74\n",
            "   53   74   28   74   74    0    0   63    7   74   74   74   74    0\n",
            "   65   74   74    0   74   64   74   74   78   74   72   77   73    0\n",
            "   74   70    0   60   74   70   74   13   53   74   74   65   74   74\n",
            "   74   13    0    0   74   74    0   78   72   79   66   69   75   72\n",
            "    0    0   73    5   74   71   78    0    0    0   55   67   71   78\n",
            "  -86   75    0   -4    0   64   72    0   71   69   78   73   77    0\n",
            "   73   77   73   64   72   72   72   72   72   70   74   73    0   72\n",
            "    0   72   72   73    0   72   36   72   72   72   72   70    0   78\n",
            "    0   72   72   72   72   72   35   72   62   72   72   20   64   64\n",
            "  -12   72   62   72   69   66   70   69   69   72   64  -61   76   71\n",
            "   62   64   71   71   71   70   71  -47   71    0   62   76   69   65\n",
            "   69    0   66    0    0  -95   70    0   70   70   71   70    0   70\n",
            "   24   60   62   52   76   38   70    0   70   69    0   70   70   70\n",
            "   70   70   69    0   69   69   69   69   70   58 -106   69   58   69\n",
            "   71   72   69   69   58   69   69   69   23   62    0   75   71    0\n",
            "    0    0   69    0   69   69    0   70    0   58   69   76]\n",
            "\n",
            "The optimized parameters for the given inputs are: \n",
            "[array([1, 0, 0, 0, 0, 0, 0, 0, 0, 0, 0, 1, 0, 0, 0, 1, 0, 0, 0, 1, 0, 0,\n",
            "       1, 0, 0, 0, 1, 0, 0, 0, 0, 0, 1, 0, 0, 0, 0, 0, 0])]\n",
            "\n",
            "Selected items that will maximize the knapsack without breaking it:\n",
            " água - Valor nutricional: 5 - Valor: R$ 1.99 - Prioridade:5\n",
            "\n",
            " leite - Valor nutricional: 5 - Valor: R$ 3.5 - Prioridade:4\n",
            "\n",
            " batata - Valor nutricional: 4 - Valor: R$ 5.0 - Prioridade:2\n",
            "\n",
            " tomate - Valor nutricional: 5 - Valor: R$ 7.0 - Prioridade:4\n",
            "\n",
            " alface - Valor nutricional: 4 - Valor: R$ 3.0 - Prioridade:4\n",
            "\n",
            " banana - Valor nutricional: 5 - Valor: R$ 6.0 - Prioridade:4\n",
            "\n",
            " salgados - Valor nutricional: 2 - Valor: R$ 2.0 - Prioridade:3\n",
            "\n"
          ],
          "name": "stdout"
        }
      ]
    },
    {
      "cell_type": "markdown",
      "metadata": {
        "id": "WlFdwxo7xzx0"
      },
      "source": [
        "**Fitness through the generations**"
      ]
    },
    {
      "cell_type": "code",
      "metadata": {
        "id": "cR6Bqf60xzQq",
        "outputId": "bfe9869f-147d-4eaa-e26b-d0dae79b4d2a",
        "colab": {
          "base_uri": "https://localhost:8080/",
          "height": 349
        }
      },
      "source": [
        "fitness_history_mean = [round(np.mean(fitness),2) for fitness in fitness_history]\n",
        "fitness_history_max = [np.max(fitness) for fitness in fitness_history]\n",
        "fitness_history_min = [np.min(fitness) for fitness in fitness_history]\n",
        "print('mean: {} - max: {} - min: {}'.format(fitness_history_mean, fitness_history_max, fitness_history_min))\n",
        "\n",
        "plt.plot(list(range(num_generations)), fitness_history_mean, label = 'Mean Fitness')\n",
        "plt.plot(list(range(num_generations)), fitness_history_max, label = 'Max Fitness')\n",
        "plt.plot(list(range(num_generations)), fitness_history_min, label = 'Min Fitness')\n",
        "\n",
        "plt.legend()\n",
        "plt.title('Fitness through the generations')\n",
        "plt.xlabel('Generations')\n",
        "plt.ylabel('Fitness')\n",
        "plt.show()\n",
        "print(np.asarray(fitness_history).shape)"
      ],
      "execution_count": 68,
      "outputs": [
        {
          "output_type": "stream",
          "text": [
            "mean: [-517.71, -358.56, -222.61, -86.63, 4.19, 7.88, 13.22, 17.8, 22.78, 27.32, 32.32, 37.7, 41.76, 44.59, 47.43, 48.17, 51.43, 52.68, 57.77, 61.93] - max: [-137, 14, 35, 44, 57, 57, 57, 57, 57, 57, 68, 68, 74, 78, 78, 78, 79, 79, 80, 86] - min: [-1038, -658, -567, -479, -20, -132, -113, -93, -116, -144, -100, -124, -115, -89, -123, -123, -102, -86, -83, -101]\n"
          ],
          "name": "stdout"
        },
        {
          "output_type": "display_data",
          "data": {
            "image/png": "[encoded data removed]",
            "text/plain": [
              "<Figure size 432x288 with 1 Axes>"
            ]
          },
          "metadata": {
            "tags": [],
            "needs_background": "light"
          }
        },
        {
          "output_type": "stream",
          "text": [
            "(20, 600)\n"
          ],
          "name": "stdout"
        }
      ]
    }
  ]
}